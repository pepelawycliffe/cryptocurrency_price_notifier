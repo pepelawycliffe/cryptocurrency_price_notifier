{
 "cells": [
  {
   "cell_type": "code",
   "execution_count": 3,
   "metadata": {},
   "outputs": [
    {
     "name": "stdout",
     "output_type": "stream",
     "text": [
      "\n",
      "Select a cryptocurrency: BTC | ETH | BCH | ZEC | LTC | XRP | XLM :   btc\n",
      "\n",
      "Enter the price you bought your BTC in USD: 1000\n",
      "\n",
      "Notifier launched, you can leave it in background.\n"
     ]
    },
    {
     "ename": "KeyboardInterrupt",
     "evalue": "",
     "output_type": "error",
     "traceback": [
      "\u001b[1;31m---------------------------------------------------------------------------\u001b[0m",
      "\u001b[1;31mKeyboardInterrupt\u001b[0m                         Traceback (most recent call last)",
      "\u001b[1;32m<ipython-input-3-d3febf86c9f7>\u001b[0m in \u001b[0;36m<module>\u001b[1;34m\u001b[0m\n\u001b[0;32m     56\u001b[0m \u001b[1;32mwhile\u001b[0m \u001b[1;32mTrue\u001b[0m\u001b[1;33m:\u001b[0m\u001b[1;33m\u001b[0m\u001b[1;33m\u001b[0m\u001b[0m\n\u001b[0;32m     57\u001b[0m     \u001b[0mschedule\u001b[0m\u001b[1;33m.\u001b[0m\u001b[0mrun_pending\u001b[0m\u001b[1;33m(\u001b[0m\u001b[1;33m)\u001b[0m\u001b[1;33m\u001b[0m\u001b[1;33m\u001b[0m\u001b[0m\n\u001b[1;32m---> 58\u001b[1;33m     \u001b[0mtime\u001b[0m\u001b[1;33m.\u001b[0m\u001b[0msleep\u001b[0m\u001b[1;33m(\u001b[0m\u001b[1;36m1\u001b[0m\u001b[1;33m)\u001b[0m\u001b[1;33m\u001b[0m\u001b[1;33m\u001b[0m\u001b[0m\n\u001b[0m",
      "\u001b[1;31mKeyboardInterrupt\u001b[0m: "
     ]
    }
   ],
   "source": [
    "import requests\n",
    "import schedule\n",
    "import time\n",
    "from playsound import playsound\n",
    "import os\n",
    "import sys\n",
    "\n",
    "def cls():\n",
    "    os.system('cls' if os.name=='nt' else 'clear')\n",
    "    print(\"\")\n",
    "\n",
    "cls()\n",
    "\n",
    "coin = input(\"Select a cryptocurrency: BTC | ETH | BCH | ZEC | LTC | XRP | XLM :   \")\n",
    "if coin.upper() not in [\"BTC\", \"BCH\", \"ETH\", \"LTC\", \"ZEC\", \"XRP\", \"XLM\"]:\n",
    "    print(\"Cryptocurrency not supported.\")\n",
    "    exit()\n",
    "\n",
    "cls()\n",
    "\n",
    "value = input(\"Enter the price you bought your \"+coin.upper()+\" in USD: \")\n",
    "\n",
    "cls()\n",
    "\n",
    "print(\"Notifier launched, you can leave it in background.\")\n",
    "\n",
    "BELLOW = float(value)\n",
    "\n",
    "inc = 1\n",
    "\n",
    "def req_price():\n",
    "    r = requests.get('https://api.coinbase.com/v2/exchange-rates?currency='+coin.upper())\n",
    "    return float(r.json()['data']['rates']['USD'])\n",
    "\n",
    "def alert(price):\n",
    "    if price < float(BELLOW):\n",
    "        # mac notification\n",
    "        if sys.platform == 'darwin':\n",
    "            os.system(\"\"\"\n",
    "                    osascript -e 'display notification \"{}\" with title \"{}\"'\n",
    "                    \"\"\".format(\"Current price: $\"+str(price), coin.upper()+\" price dropped bellow $\"+str(BELLOW)))\n",
    "        playsound(\"./suffer.mp3\")\n",
    "\n",
    "def main():\n",
    "    global inc\n",
    "\n",
    "    if inc == 1:\n",
    "        alert(req_price())\n",
    "        inc += 1\n",
    "\n",
    "    if float(BELLOW) < req_price():\n",
    "        inc -= 1\n",
    "\n",
    "schedule.every(30).seconds.do(main)\n",
    "\n",
    "while True:\n",
    "    schedule.run_pending()\n",
    "    time.sleep(1)"
   ]
  },
  {
   "cell_type": "code",
   "execution_count": null,
   "metadata": {},
   "outputs": [],
   "source": []
  }
 ],
 "metadata": {
  "kernelspec": {
   "display_name": "Python 3",
   "language": "python",
   "name": "python3"
  },
  "language_info": {
   "codemirror_mode": {
    "name": "ipython",
    "version": 3
   },
   "file_extension": ".py",
   "mimetype": "text/x-python",
   "name": "python",
   "nbconvert_exporter": "python",
   "pygments_lexer": "ipython3",
   "version": "3.8.3"
  }
 },
 "nbformat": 4,
 "nbformat_minor": 4
}
